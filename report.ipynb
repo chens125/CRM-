{
 "cells": [
  {
   "cell_type": "markdown",
   "metadata": {},
   "source": [
    "# CLient Relationship Management\n",
    "\n",
    "This notebook was designed for sales associates to organise client information. It helps to identify VIC, and provide corresponding information and insights for personalised product recommandation. "
   ]
  },
  {
   "cell_type": "code",
   "execution_count": 1,
   "metadata": {},
   "outputs": [],
   "source": [
    "import pandas as pd\n",
    "\n",
    "df = pd.read_csv(\"example_data.csv\")"
   ]
  },
  {
   "cell_type": "code",
   "execution_count": 2,
   "metadata": {},
   "outputs": [
    {
     "name": "stdout",
     "output_type": "stream",
     "text": [
      "During XXX, there were 80 transactions with customer details, contributing to total sale of 16688.0\n"
     ]
    }
   ],
   "source": [
    "# Display total sale and number\n",
    "print(f\"During XXX, there were {df[\"total_sale\"].count()} transactions with customer details, contributing to total sale of {df[\"total_sale\"].sum()}\")"
   ]
  },
  {
   "cell_type": "markdown",
   "metadata": {},
   "source": [
    "### Backet Size Summary"
   ]
  },
  {
   "cell_type": "code",
   "execution_count": 3,
   "metadata": {},
   "outputs": [
    {
     "name": "stdout",
     "output_type": "stream",
     "text": [
      "**     Basket Size Summary:     **\n",
      "\n",
      "Customers spending over £1000: 2\n",
      "['Jesse Roberts', 'Karen Russell']\n",
      "\n",
      "Customers spending between £500 and £1000: 4\n",
      "['Stephanie Henderson', 'Paula Giles', 'James Anderson', 'Mary Adams']\n",
      "\n",
      "Customers spending between £200 and £500: 14\n",
      "['Jose Madden MD', 'Patricia Lane', 'Alexander Edwards', 'Michael Mahoney', 'Heather Turner', 'Deborah Waters', 'Brandon Nguyen', 'Susan Gordon', 'Matthew Lane', 'Clinton Lamb', 'Christina Smith', 'Angela Gonzales', 'Rick Baker', 'Renee Cain']\n"
     ]
    }
   ],
   "source": [
    "# Initialize variables to count customers in different basket size categories\n",
    "over_1000_customers = []\n",
    "between_500_customers = []\n",
    "between_200_customers = []\n",
    "\n",
    "# Iterate through each row in the DataFrame\n",
    "for index, row in df.iterrows():\n",
    "    total_sale = row[\"total_sale\"]\n",
    "    customer = row[\"customer\"]\n",
    "\n",
    "    # Check if the total sale is over £1000\n",
    "    if total_sale >= 1000:\n",
    "        over_1000_customers.append(customer)\n",
    "\n",
    "    # Check if the total sale is between £500 and £1000\n",
    "    elif total_sale >= 500:\n",
    "        between_500_customers.append(customer)\n",
    "\n",
    "    elif total_sale >= 200:\n",
    "        between_200_customers.append(customer)\n",
    "\n",
    "\n",
    "# Output the summary\n",
    "print(\"**     Basket Size Summary:     **\\n\")\n",
    "print(\n",
    "    f\"Customers spending over £1000: {len(over_1000_customers)}\\n{over_1000_customers}\"\n",
    ")\n",
    "print(\n",
    "    f\"\\nCustomers spending between £500 and £1000: {len(between_500_customers)}\\n{between_500_customers}\"\n",
    ")\n",
    "print(\n",
    "    f\"\\nCustomers spending between £200 and £500: {len(between_200_customers)}\\n{between_200_customers}\"\n",
    ")"
   ]
  },
  {
   "cell_type": "markdown",
   "metadata": {},
   "source": [
    "### Age distribution \n",
    "It is good to know who are the customers shopping for, boys or girls? what are their age?\n"
   ]
  },
  {
   "cell_type": "code",
   "execution_count": 25,
   "metadata": {},
   "outputs": [
    {
     "data": {
      "image/png": "[encoded data removed]",
      "text/plain": [
       "<Figure size 1200x600 with 1 Axes>"
      ]
     },
     "metadata": {},
     "output_type": "display_data"
    },
    {
     "name": "stdout",
     "output_type": "stream",
     "text": [
      "Age distribution plot 'age_distribution.png' has been created successfully.\n",
      "Age distribution plot 'age_distribution.png' has been created successfully.\n"
     ]
    }
   ],
   "source": [
    "import pandas as pd\n",
    "import matplotlib.pyplot as plt\n",
    "\n",
    "# Load your original dataset\n",
    "# Replace '25feb_29Apr.csv' with your actual CSV file path\n",
    "\n",
    "# Extract age data for boys and girls from the dataset\n",
    "boy_ages = df[\"boy_age\"].tolist()\n",
    "girl_ages = df[\"girl_age\"].tolist()\n",
    "\n",
    "# Calculate the frequency of each age\n",
    "boy_age_counts = pd.Series(boy_ages).value_counts().sort_index()\n",
    "girl_age_counts = pd.Series(girl_ages).value_counts().sort_index()\n",
    "\n",
    "# Define the range of ages\n",
    "ages = range(1, 19)\n",
    "\n",
    "# Get the counts for each age, ensuring missing ages are represented as 0\n",
    "boy_counts = [boy_age_counts.get(age, 0) for age in ages]\n",
    "girl_counts = [girl_age_counts.get(age, 0) for age in ages]\n",
    "\n",
    "# Width of the bars\n",
    "bar_width = 0.4\n",
    "\n",
    "# Positions of the bars on the x-axis\n",
    "r1 = [x - bar_width / 2 for x in ages]\n",
    "r2 = [x + bar_width / 2 for x in ages]\n",
    "\n",
    "# Plotting the age distribution\n",
    "plt.figure(figsize=(12, 6))\n",
    "\n",
    "# Boys' age distribution\n",
    "plt.bar(r1, boy_counts, color=\"blue\", width=bar_width, edgecolor=\"grey\", label=\"Boys\")\n",
    "\n",
    "# Girls' age distribution\n",
    "plt.bar(r2, girl_counts, color=\"pink\", width=bar_width, edgecolor=\"grey\", label=\"Girls\")\n",
    "\n",
    "plt.xlabel(\"Age\")\n",
    "plt.ylabel(\"Frequency\")\n",
    "plt.title(\"Age Distribution of Boys and Girls\")\n",
    "plt.xticks(ages)\n",
    "plt.legend(loc=\"upper right\")\n",
    "\n",
    "# Save the plot as an image\n",
    "plt.savefig(\"age_distribution.png\")\n",
    "\n",
    "# Show the plot\n",
    "plt.show()\n",
    "\n",
    "print(\"Age distribution plot 'age_distribution.png' has been created successfully.\")\n",
    "# Show the plot\n",
    "plt.show()\n",
    "\n",
    "print(\"Age distribution plot 'age_distribution.png' has been created successfully.\")"
   ]
  },
  {
   "cell_type": "markdown",
   "metadata": {},
   "source": [
    "### Returing Customer list"
   ]
  },
  {
   "cell_type": "code",
   "execution_count": 10,
   "metadata": {},
   "outputs": [
    {
     "data": {
      "text/html": [
       "<div>\n",
       "<style scoped>\n",
       "    .dataframe tbody tr th:only-of-type {\n",
       "        vertical-align: middle;\n",
       "    }\n",
       "\n",
       "    .dataframe tbody tr th {\n",
       "        vertical-align: top;\n",
       "    }\n",
       "\n",
       "    .dataframe thead th {\n",
       "        text-align: right;\n",
       "    }\n",
       "</style>\n",
       "<table border=\"1\" class=\"dataframe\">\n",
       "  <thead>\n",
       "    <tr style=\"text-align: right;\">\n",
       "      <th></th>\n",
       "      <th>customer</th>\n",
       "      <th>total_sale</th>\n",
       "      <th>no_item</th>\n",
       "      <th>boy_age</th>\n",
       "      <th>girl_age</th>\n",
       "      <th>price_sensetivity</th>\n",
       "      <th>other</th>\n",
       "      <th>price_sensitivity</th>\n",
       "    </tr>\n",
       "  </thead>\n",
       "  <tbody>\n",
       "  </tbody>\n",
       "</table>\n",
       "</div>"
      ],
      "text/plain": [
       "Empty DataFrame\n",
       "Columns: [customer, total_sale, no_item, boy_age, girl_age, price_sensetivity, other, price_sensitivity]\n",
       "Index: []"
      ]
     },
     "execution_count": 10,
     "metadata": {},
     "output_type": "execute_result"
    }
   ],
   "source": [
    "# These customer shopped more than one time from Siyu\n",
    "\n",
    "\n",
    "df[df[\"customer\"].duplicated(keep=\"last\")]"
   ]
  },
  {
   "cell_type": "markdown",
   "metadata": {},
   "source": [
    "Note that we are using example data, which does not have repeating names so there will not be returning customer listing here."
   ]
  },
  {
   "cell_type": "markdown",
   "metadata": {},
   "source": [
    "### VIC customer information report for clientelling and outreaching"
   ]
  },
  {
   "cell_type": "code",
   "execution_count": 8,
   "metadata": {},
   "outputs": [],
   "source": [
    "df_vic = df[df[\"total_sale\"].rank(pct=True) > 0.9]"
   ]
  },
  {
   "cell_type": "code",
   "execution_count": 17,
   "metadata": {},
   "outputs": [
    {
     "name": "stdout",
     "output_type": "stream",
     "text": [
      "Requirement already satisfied: tabulate in c:\\users\\dell\\appdata\\local\\programs\\python\\python312\\lib\\site-packages (0.9.0)\n",
      "Note: you may need to restart the kernel to use updated packages.\n",
      "+---------------------+-----------+------------+---------------------------------------------------+\n",
      "| Top 10 % Customer   |   Boy age |   Girl age | Outreach Information                              |\n",
      "+=====================+===========+============+===================================================+\n",
      "| Jesse Roberts       |        16 |         18 | Peanuts are one of the ingredients of dynamite.   |\n",
      "+---------------------+-----------+------------+---------------------------------------------------+\n",
      "| Karen Russell       |         5 |         15 | Recycling one glass jar, saves enough energy to   |\n",
      "|                     |           |            | watch T.V for 3 hours!                            |\n",
      "+---------------------+-----------+------------+---------------------------------------------------+\n",
      "| Stephanie Henderson |         5 |          4 | 3.9% of all women do not wear underwear.          |\n",
      "+---------------------+-----------+------------+---------------------------------------------------+\n",
      "| Paula Giles         |        16 |          6 | The only real person to ever to appear on a pez   |\n",
      "|                     |           |            | dispenser was Betsy Ross.                         |\n",
      "+---------------------+-----------+------------+---------------------------------------------------+\n",
      "| James Anderson      |        12 |          1 | There is a town in Newfoundland, Canada called    |\n",
      "|                     |           |            | Dildo.                                            |\n",
      "+---------------------+-----------+------------+---------------------------------------------------+\n",
      "| Susan Gordon        |         8 |         10 | Prince Charles is an avid collecter of toilet     |\n",
      "|                     |           |            | seats.                                            |\n",
      "+---------------------+-----------+------------+---------------------------------------------------+\n",
      "| Mary Adams          |         2 |         10 | Larry Lewis ran the 100-yard dash in 17.8 seconds |\n",
      "|                     |           |            | in 1969, thereby setting a new world`s record for |\n",
      "|                     |           |            | runners in the 100-years-or-older class. He was   |\n",
      "|                     |           |            | 101.                                              |\n",
      "+---------------------+-----------+------------+---------------------------------------------------+\n",
      "| Rick Baker          |         1 |         15 | Tom Sawyer was the first novel written on a       |\n",
      "|                     |           |            | typewriter.                                       |\n",
      "+---------------------+-----------+------------+---------------------------------------------------+\n"
     ]
    }
   ],
   "source": [
    "# print(df_vic[['customer',\"other\"]])\n",
    "\n",
    "customer_info = df_vic[[\"customer\", \"boy_age\",\"\",\"other\"]].values.tolist()\n",
    "\n",
    "\n",
    "# Print the tabulated customer information\n",
    "%pip install tabulate\n",
    "from tabulate import tabulate\n",
    "\n",
    "print(\n",
    "    tabulate(\n",
    "        customer_info, headers=[\"Top 10 % Customer\",\"Boy age\", \"Girl age\",\"Outreach Information\"], tablefmt=\"grid\", maxcolwidths=50\n",
    "    )\n",
    ")"
   ]
  },
  {
   "cell_type": "markdown",
   "metadata": {},
   "source": [
    "*Note*: \n",
    "1. the list should be showing detail information of the customer in real case; it was replaced by random facts to protect the privacy.\n",
    "2. I work for a Kids' clothing store, so listing boy & girl's age is helpful when contacting their parents and recommand products accordingly."
   ]
  },
  {
   "cell_type": "markdown",
   "metadata": {},
   "source": [
    "### Export report to PDF"
   ]
  },
  {
   "cell_type": "code",
   "execution_count": 14,
   "metadata": {},
   "outputs": [
    {
     "name": "stdout",
     "output_type": "stream",
     "text": [
      "Requirement already satisfied: pandas in c:\\users\\dell\\appdata\\local\\programs\\python\\python312\\lib\\site-packages (2.2.2)\n",
      "Requirement already satisfied: faker in c:\\users\\dell\\appdata\\local\\programs\\python\\python312\\lib\\site-packages (25.2.0)\n",
      "Collecting reportlab\n",
      "  Using cached reportlab-4.2.0-py3-none-any.whl.metadata (1.4 kB)\n",
      "Requirement already satisfied: tabulate in c:\\users\\dell\\appdata\\local\\programs\\python\\python312\\lib\\site-packages (0.9.0)\n",
      "Requirement already satisfied: numpy>=1.26.0 in c:\\users\\dell\\appdata\\local\\programs\\python\\python312\\lib\\site-packages (from pandas) (1.26.4)\n",
      "Requirement already satisfied: python-dateutil>=2.8.2 in c:\\users\\dell\\appdata\\roaming\\python\\python312\\site-packages (from pandas) (2.9.0.post0)\n",
      "Requirement already satisfied: pytz>=2020.1 in c:\\users\\dell\\appdata\\local\\programs\\python\\python312\\lib\\site-packages (from pandas) (2024.1)\n",
      "Requirement already satisfied: tzdata>=2022.7 in c:\\users\\dell\\appdata\\local\\programs\\python\\python312\\lib\\site-packages (from pandas) (2024.1)\n",
      "Requirement already satisfied: pillow>=9.0.0 in c:\\users\\dell\\appdata\\local\\programs\\python\\python312\\lib\\site-packages (from reportlab) (10.3.0)\n",
      "Requirement already satisfied: chardet in c:\\users\\dell\\appdata\\local\\programs\\python\\python312\\lib\\site-packages (from reportlab) (5.2.0)\n",
      "Requirement already satisfied: six>=1.5 in c:\\users\\dell\\appdata\\roaming\\python\\python312\\site-packages (from python-dateutil>=2.8.2->pandas) (1.16.0)\n",
      "Using cached reportlab-4.2.0-py3-none-any.whl (1.9 MB)\n",
      "Installing collected packages: reportlab\n",
      "Successfully installed reportlab-4.2.0\n",
      "Note: you may need to restart the kernel to use updated packages.\n"
     ]
    },
    {
     "ename": "AttributeError",
     "evalue": "'str' object has no attribute 'getKeepWithNext'",
     "output_type": "error",
     "traceback": [
      "\u001b[1;31m---------------------------------------------------------------------------\u001b[0m",
      "\u001b[1;31mAttributeError\u001b[0m                            Traceback (most recent call last)",
      "Cell \u001b[1;32mIn[14], line 22\u001b[0m\n\u001b[0;32m     19\u001b[0m table \u001b[38;5;241m=\u001b[39m tabulate(customer_info, headers\u001b[38;5;241m=\u001b[39m[\u001b[38;5;124m\"\u001b[39m\u001b[38;5;124mTop 10 \u001b[39m\u001b[38;5;124m%\u001b[39m\u001b[38;5;124m Customer\u001b[39m\u001b[38;5;124m\"\u001b[39m, \u001b[38;5;124m\"\u001b[39m\u001b[38;5;124mOutreach Information\u001b[39m\u001b[38;5;124m\"\u001b[39m], tablefmt\u001b[38;5;241m=\u001b[39m\u001b[38;5;124m\"\u001b[39m\u001b[38;5;124mgrid\u001b[39m\u001b[38;5;124m\"\u001b[39m, maxcolwidths\u001b[38;5;241m=\u001b[39m\u001b[38;5;241m50\u001b[39m)\n\u001b[0;32m     21\u001b[0m \u001b[38;5;66;03m# Add table to the PDF document\u001b[39;00m\n\u001b[1;32m---> 22\u001b[0m \u001b[43mpdf\u001b[49m\u001b[38;5;241;43m.\u001b[39;49m\u001b[43mbuild\u001b[49m\u001b[43m(\u001b[49m\u001b[43m[\u001b[49m\u001b[43mtable\u001b[49m\u001b[43m]\u001b[49m\u001b[43m)\u001b[49m\n\u001b[0;32m     24\u001b[0m \u001b[38;5;28mprint\u001b[39m(\u001b[38;5;124mf\u001b[39m\u001b[38;5;124m\"\u001b[39m\u001b[38;5;124mPDF file \u001b[39m\u001b[38;5;124m'\u001b[39m\u001b[38;5;132;01m{\u001b[39;00mpdf_filename\u001b[38;5;132;01m}\u001b[39;00m\u001b[38;5;124m'\u001b[39m\u001b[38;5;124m has been created successfully.\u001b[39m\u001b[38;5;124m\"\u001b[39m)\n",
      "File \u001b[1;32mc:\\Users\\DELL\\AppData\\Local\\Programs\\Python\\Python312\\Lib\\site-packages\\reportlab\\platypus\\doctemplate.py:1317\u001b[0m, in \u001b[0;36mSimpleDocTemplate.build\u001b[1;34m(self, flowables, onFirstPage, onLaterPages, canvasmaker)\u001b[0m\n\u001b[0;32m   1315\u001b[0m \u001b[38;5;28;01mif\u001b[39;00m onLaterPages \u001b[38;5;129;01mis\u001b[39;00m _doNothing \u001b[38;5;129;01mand\u001b[39;00m \u001b[38;5;28mhasattr\u001b[39m(\u001b[38;5;28mself\u001b[39m,\u001b[38;5;124m'\u001b[39m\u001b[38;5;124monLaterPages\u001b[39m\u001b[38;5;124m'\u001b[39m):\n\u001b[0;32m   1316\u001b[0m     \u001b[38;5;28mself\u001b[39m\u001b[38;5;241m.\u001b[39mpageTemplates[\u001b[38;5;241m1\u001b[39m]\u001b[38;5;241m.\u001b[39mbeforeDrawPage \u001b[38;5;241m=\u001b[39m \u001b[38;5;28mself\u001b[39m\u001b[38;5;241m.\u001b[39monLaterPages\n\u001b[1;32m-> 1317\u001b[0m \u001b[43mBaseDocTemplate\u001b[49m\u001b[38;5;241;43m.\u001b[39;49m\u001b[43mbuild\u001b[49m\u001b[43m(\u001b[49m\u001b[38;5;28;43mself\u001b[39;49m\u001b[43m,\u001b[49m\u001b[43mflowables\u001b[49m\u001b[43m,\u001b[49m\u001b[43m \u001b[49m\u001b[43mcanvasmaker\u001b[49m\u001b[38;5;241;43m=\u001b[39;49m\u001b[43mcanvasmaker\u001b[49m\u001b[43m)\u001b[49m\n",
      "File \u001b[1;32mc:\\Users\\DELL\\AppData\\Local\\Programs\\Python\\Python312\\Lib\\site-packages\\reportlab\\platypus\\doctemplate.py:1082\u001b[0m, in \u001b[0;36mBaseDocTemplate.build\u001b[1;34m(self, flowables, filename, canvasmaker)\u001b[0m\n\u001b[0;32m   1080\u001b[0m \u001b[38;5;28;01mtry\u001b[39;00m:\n\u001b[0;32m   1081\u001b[0m     first \u001b[38;5;241m=\u001b[39m flowables[\u001b[38;5;241m0\u001b[39m]\n\u001b[1;32m-> 1082\u001b[0m     \u001b[38;5;28;43mself\u001b[39;49m\u001b[38;5;241;43m.\u001b[39;49m\u001b[43mhandle_flowable\u001b[49m\u001b[43m(\u001b[49m\u001b[43mflowables\u001b[49m\u001b[43m)\u001b[49m\n\u001b[0;32m   1083\u001b[0m     handled \u001b[38;5;241m+\u001b[39m\u001b[38;5;241m=\u001b[39m \u001b[38;5;241m1\u001b[39m\n\u001b[0;32m   1084\u001b[0m \u001b[38;5;28;01mexcept\u001b[39;00m:\n\u001b[0;32m   1085\u001b[0m     \u001b[38;5;66;03m#if it has trace info, add it to the traceback message.\u001b[39;00m\n",
      "File \u001b[1;32mc:\\Users\\DELL\\AppData\\Local\\Programs\\Python\\Python312\\Lib\\site-packages\\reportlab\\platypus\\doctemplate.py:907\u001b[0m, in \u001b[0;36mBaseDocTemplate.handle_flowable\u001b[1;34m(self, flowables)\u001b[0m\n\u001b[0;32m    905\u001b[0m \u001b[38;5;28;01mif\u001b[39;00m f:\n\u001b[0;32m    906\u001b[0m     \u001b[38;5;28mself\u001b[39m\u001b[38;5;241m.\u001b[39mhandle_breakBefore(flowables)\n\u001b[1;32m--> 907\u001b[0m     \u001b[38;5;28;43mself\u001b[39;49m\u001b[38;5;241;43m.\u001b[39;49m\u001b[43mhandle_keepWithNext\u001b[49m\u001b[43m(\u001b[49m\u001b[43mflowables\u001b[49m\u001b[43m)\u001b[49m\n\u001b[0;32m    908\u001b[0m     f \u001b[38;5;241m=\u001b[39m flowables[\u001b[38;5;241m0\u001b[39m]\n\u001b[0;32m    909\u001b[0m \u001b[38;5;28;01mdel\u001b[39;00m flowables[\u001b[38;5;241m0\u001b[39m]\n",
      "File \u001b[1;32mc:\\Users\\DELL\\AppData\\Local\\Programs\\Python\\Python312\\Lib\\site-packages\\reportlab\\platypus\\doctemplate.py:872\u001b[0m, in \u001b[0;36mBaseDocTemplate.handle_keepWithNext\u001b[1;34m(self, flowables)\u001b[0m\n\u001b[0;32m    870\u001b[0m i \u001b[38;5;241m=\u001b[39m \u001b[38;5;241m0\u001b[39m\n\u001b[0;32m    871\u001b[0m n \u001b[38;5;241m=\u001b[39m \u001b[38;5;28mlen\u001b[39m(flowables)\n\u001b[1;32m--> 872\u001b[0m \u001b[38;5;28;01mwhile\u001b[39;00m i\u001b[38;5;241m<\u001b[39mn \u001b[38;5;129;01mand\u001b[39;00m \u001b[43mflowables\u001b[49m\u001b[43m[\u001b[49m\u001b[43mi\u001b[49m\u001b[43m]\u001b[49m\u001b[38;5;241;43m.\u001b[39;49m\u001b[43mgetKeepWithNext\u001b[49m() \u001b[38;5;129;01mand\u001b[39;00m _ktAllow(flowables[i]): i \u001b[38;5;241m+\u001b[39m\u001b[38;5;241m=\u001b[39m \u001b[38;5;241m1\u001b[39m\n\u001b[0;32m    873\u001b[0m \u001b[38;5;28;01mif\u001b[39;00m i:\n\u001b[0;32m    874\u001b[0m     \u001b[38;5;28;01mif\u001b[39;00m i\u001b[38;5;241m<\u001b[39mn \u001b[38;5;129;01mand\u001b[39;00m _ktAllow(flowables[i]): i \u001b[38;5;241m+\u001b[39m\u001b[38;5;241m=\u001b[39m \u001b[38;5;241m1\u001b[39m\n",
      "\u001b[1;31mAttributeError\u001b[0m: 'str' object has no attribute 'getKeepWithNext'"
     ]
    }
   ],
   "source": [
    "%pip install pandas faker reportlab tabulate\n",
    "\n",
    "from reportlab.lib.pagesizes import letter\n",
    "from reportlab.platypus import SimpleDocTemplate, Table, TableStyle\n",
    "from reportlab.lib import colors\n",
    "from tabulate import tabulate\n",
    "\n",
    "# Define table data\n",
    "customer_info = df_vic[['customer', 'other']].values.tolist()\n",
    "\n",
    "# Define headers for the table\n",
    "headers = ['Customer', 'Outreach Information']\n",
    "\n",
    "# Create a PDF document\n",
    "pdf_filename = \"customer_information.pdf\"\n",
    "pdf = SimpleDocTemplate(pdf_filename, pagesize=letter)\n",
    "\n",
    "# Create a table and style\n",
    "table = tabulate(customer_info, headers=[\"Top 10 % Customer\", \"Outreach Information\"], tablefmt=\"grid\", maxcolwidths=50)\n",
    "\n",
    "# Add table to the PDF document\n",
    "pdf.build([table])\n",
    "\n",
    "print(f\"PDF file '{pdf_filename}' has been created successfully.\")\n"
   ]
  }
 ],
 "metadata": {
  "kernelspec": {
   "display_name": "Python 3",
   "language": "python",
   "name": "python3"
  },
  "language_info": {
   "codemirror_mode": {
    "name": "ipython",
    "version": 3
   },
   "file_extension": ".py",
   "mimetype": "text/x-python",
   "name": "python",
   "nbconvert_exporter": "python",
   "pygments_lexer": "ipython3",
   "version": "3.12.2"
  }
 },
 "nbformat": 4,
 "nbformat_minor": 2
}
