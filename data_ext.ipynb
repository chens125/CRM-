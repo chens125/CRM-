{
 "cells": [
  {
   "cell_type": "markdown",
   "metadata": {},
   "source": [
    "# Data Preparation\n",
    "This notebook was written to organise customer information and store it in a CSV file. A CSV file is much more useful if one wants to organise information and conduct data analysis.\n",
    "\n",
    "*Note:* The output has been cleared out for data protection reasons.\n",
    "## 1.Data Extraction"
   ]
  },
  {
   "cell_type": "code",
   "execution_count": null,
   "metadata": {},
   "outputs": [],
   "source": [
    "import csv\n",
    "\n",
    "# Define the input and output file paths\n",
    "input_file = \"25feb_29Apr.txt\"\n",
    "output_file = \"25feb_29Apr.csv\""
   ]
  },
  {
   "cell_type": "code",
   "execution_count": null,
   "metadata": {},
   "outputs": [],
   "source": [
    "# Open the input file and read the lines\n",
    "with open(input_file, \"r+\", encoding=\"utf-8\") as file:\n",
    "    lines = file.readlines()\n",
    "print(lines)\n",
    "\n",
    "# Initialize an empty list to store the modified lines\n",
    "formatted_lines = []"
   ]
  },
  {
   "cell_type": "code",
   "execution_count": null,
   "metadata": {},
   "outputs": [],
   "source": [
    "# Loop through each line in the input file\n",
    "for line in lines:\n",
    "    line = line.strip()\n",
    "    # If the line is not empty, append it to the list\n",
    "    if line:\n",
    "        # Replace newlines with commas\n",
    "        line = line.replace(\",\", \"\")\n",
    "        line = line.replace(\"\\n\", \"\")\n",
    "        line = line.strip()\n",
    "        # Append the modified line to the list\n",
    "        formatted_lines.append(line)\n",
    "\n",
    "\n",
    "print(formatted_lines)\n",
    "print(\",\".join(formatted_lines))"
   ]
  },
  {
   "cell_type": "code",
   "execution_count": null,
   "metadata": {},
   "outputs": [],
   "source": [
    "formatted_lines = \",\".join(formatted_lines).split(\"Retail Sale,Register\")\n",
    "del formatted_lines[0]\n",
    "formatted_lines"
   ]
  },
  {
   "cell_type": "code",
   "execution_count": null,
   "metadata": {},
   "outputs": [],
   "source": [
    "# Initialize an empty list to store the data\n",
    "data = []\n",
    "\n",
    "# Loop through each line in the input file\n",
    "for line in formatted_lines:\n",
    "    # Split the line into individual pieces of data\n",
    "    pieces = line.split(\",\")\n",
    "    customer = pieces[1].replace(\"Customer:\", \"\").strip()\n",
    "    total_sale = (\n",
    "        pieces[2]\n",
    "        .replace(\"E\", \"\")\n",
    "        .replace(\"￡\", \"\")\n",
    "        .replace(\":\", \"\")\n",
    "        .replace(\"Total Sale\", \"\")\n",
    "        .strip()\n",
    "    )\n",
    "    # Append the data to the list\n",
    "    data.append([customer, total_sale])\n",
    "\n",
    "print(data)\n",
    "\n",
    "# Write the data to a CSV file\n",
    "with open(output_file, \"w\", newline=\"\", encoding=\"utf-8-sig\") as file:\n",
    "    writer = csv.writer(file)\n",
    "    # Write the header row\n",
    "    writer.writerow([\"customer\", \"total_sale\"])\n",
    "    # Write the data rows\n",
    "    writer.writerows(data)"
   ]
  },
  {
   "cell_type": "markdown",
   "metadata": {},
   "source": [
    "# 2. Data Cleaning and Preprocessing"
   ]
  },
  {
   "cell_type": "code",
   "execution_count": null,
   "metadata": {},
   "outputs": [],
   "source": [
    "!pip install numpy\n",
    "!pip install pandas \n",
    "import numpy as np\n",
    "import pandas as pd\n",
    "\n",
    "df = pd.read_csv(\"25feb_29Apr.csv\")\n",
    "\n",
    "# Display the DataFrame\n",
    "print(df)"
   ]
  },
  {
   "cell_type": "markdown",
   "metadata": {},
   "source": [
    "*Deletion: Remove records with missing values*"
   ]
  },
  {
   "cell_type": "code",
   "execution_count": null,
   "metadata": {},
   "outputs": [],
   "source": [
    "df = df.dropna()"
   ]
  },
  {
   "cell_type": "markdown",
   "metadata": {},
   "source": [
    "*Handling Dulicates*"
   ]
  },
  {
   "cell_type": "code",
   "execution_count": null,
   "metadata": {},
   "outputs": [],
   "source": [
    "# Show all duplicated rows\n",
    "df[df.duplicated(keep=\"last\")]"
   ]
  },
  {
   "cell_type": "code",
   "execution_count": null,
   "metadata": {},
   "outputs": [],
   "source": [
    "# Romove duplicate records\n",
    "df = df.drop_duplicates()"
   ]
  },
  {
   "cell_type": "markdown",
   "metadata": {},
   "source": [
    "*Formatting*"
   ]
  },
  {
   "cell_type": "code",
   "execution_count": null,
   "metadata": {},
   "outputs": [],
   "source": [
    "df[\"customer\"] = df[\"customer\"].str.title()\n",
    "df[\"total_sale\"] = df[\"total_sale\"].astype(float)"
   ]
  },
  {
   "cell_type": "markdown",
   "metadata": {},
   "source": [
    "# 3. Data Enrichment"
   ]
  },
  {
   "cell_type": "code",
   "execution_count": null,
   "metadata": {},
   "outputs": [],
   "source": [
    "df[\"no_item\"] = 0\n",
    "df[\"boy_age\"] = 0\n",
    "df[\"girl_age\"] = 0\n",
    "df[\"price_sensetivity\"] = 0\n",
    "df[\"other\"] = 0\n",
    "\n",
    "df.head()"
   ]
  },
  {
   "cell_type": "markdown",
   "metadata": {},
   "source": [
    "# 4. Export the CSV\n"
   ]
  },
  {
   "cell_type": "code",
   "execution_count": null,
   "metadata": {},
   "outputs": [],
   "source": [
    "df.to_csv(\"example.csv\", index=False)"
   ]
  }
 ],
 "metadata": {
  "kernelspec": {
   "display_name": "Python 3",
   "language": "python",
   "name": "python3"
  },
  "language_info": {
   "codemirror_mode": {
    "name": "ipython",
    "version": 3
   },
   "file_extension": ".py",
   "mimetype": "text/x-python",
   "name": "python",
   "nbconvert_exporter": "python",
   "pygments_lexer": "ipython3",
   "version": "3.12.2"
  }
 },
 "nbformat": 4,
 "nbformat_minor": 2
}
